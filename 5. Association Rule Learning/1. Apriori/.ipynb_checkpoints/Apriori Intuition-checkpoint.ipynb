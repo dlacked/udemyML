{
 "cells": [
  {
   "cell_type": "markdown",
   "id": "c5748f8d-1703-4b34-a125-a247145594fe",
   "metadata": {},
   "source": [
    "# Apriori Intuition\n",
    "\n",
    "## What is Association Rule?\n",
    "\n",
    "익명의 편의점 회사는 사람들이 구매하는 사람에 대한 분석을 진행했다.\n",
    "\n",
    "늦은 오후에 상점에 들른 사람들은 기저귀를 산 후 맥주를 사는 경향이 잦은 것을 발견하였다.\n",
    "\n",
    "보통 남편이 일 끝나고 아기 기저귀를 산 뒤에 퇴근 기념으로 맥주도 같이 사가는 것으로 분석이 되었다.\n",
    "\n",
    "이런 분석을 통해, 기저귀와 맥주는 매점 내에서 가장 최장의 거리에 배치하여 고객이 모든 매장을 돌 수 있게끔 만들 수 있다.\n",
    "\n",
    "## Apriori\n",
    "\n",
    "무언가를 샀던 사람이 또 다른 무언가를 사는 지에 대한 분석이다.\n",
    "\n",
    "예를 들면 영화 1을 본 사람이 영화 2를 좋아하고, 영화 2를 본 사람이 영화 4를 좋아하는 등 데이터에서 보이는 규칙으로\n",
    "\n",
    "연관 규칙을 찾는 것이다.\n",
    "\n",
    "샘플 크기가 충분히 커진다면 확실한 규칙을 찾을 수 있게 될 것이다.\n",
    "\n",
    "Apriori 알고리즘은 Support(지지도)와 Confidence(신뢰도), Lift(향상도)가 있다.\n",
    "\n",
    "## Apriori - Support\n",
    "\n",
    "$$ Support = \\frac{P(A) \\cap P(B)}{all}$$\n",
    "100명 중 10 명이 영화 1을 봤다고 하면, 지지도는 10%가 된다.\n",
    "\n",
    "## Apriori - Confidence\n",
    "만약 영화 2를 좋아하는 사람이 영화 1을 좋아하는 경향이 있다고 하자.\n",
    "\n",
    "그럼 영화 2를 본 사람들 중 몇 명이 영화 1을 봤는지 확인해야 한다.\n",
    "\n",
    "$$ Confidence = \\frac{P(A) \\cap P(B)}{P(A)} $$\n",
    "\n",
    "## Apriori - Lift\n",
    "\n",
    "$$ Lift = \\frac{P(A) \\cap P(B)}{P(A)P(B)} $$"
   ]
  },
  {
   "cell_type": "markdown",
   "id": "44537ff8-2339-4eab-bd32-71755b4373e6",
   "metadata": {},
   "source": [
    "## Apriori - Algorithm\n",
    "\n",
    "1. 최소 지지도와 최소 정확도를 설정한다.\n",
    "\n",
    "2. 최소 지지도보다 높은 지지도를 가지는 거래내역의 모든 부분집합을 가져온다.\n",
    "\n",
    "3. 최소 정확도보다 높은 정확도를 가지는 부분집합의 모든 규칙을 가져온다.\n",
    "\n",
    "4. 내림차순 기준으로 규칙을 정렬한다."
   ]
  }
 ],
 "metadata": {
  "kernelspec": {
   "display_name": "Python 3 (ipykernel)",
   "language": "python",
   "name": "python3"
  },
  "language_info": {
   "codemirror_mode": {
    "name": "ipython",
    "version": 3
   },
   "file_extension": ".py",
   "mimetype": "text/x-python",
   "name": "python",
   "nbconvert_exporter": "python",
   "pygments_lexer": "ipython3",
   "version": "3.13.5"
  }
 },
 "nbformat": 4,
 "nbformat_minor": 5
}
