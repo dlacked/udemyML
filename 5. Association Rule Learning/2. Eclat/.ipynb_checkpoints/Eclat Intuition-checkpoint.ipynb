{
 "cells": [
  {
   "cell_type": "markdown",
   "id": "4143266d-ba79-453c-9b9e-fd8a378d9b52",
   "metadata": {},
   "source": [
    "# Eclat Intuition\n",
    "\n",
    "Apriori 모델에서는 마지막에 꼭 규칙을 찾아냈다.\n",
    "\n",
    "향상도에 기반해 그 규칙의 강도도 평가하였다.\n",
    "\n",
    "Eclat 모델은 모든 조합을 검토하고 어떤 것에 집중해야 하는지 알려주는 역할을 한다.\n",
    "\n",
    "## Eclat - Support\n",
    "\n",
    "Eclat 또한 지지도 요소를 찾을 수 있다.\n",
    "\n",
    "Apriori에서는 지지도, 신뢰도, 향상도가 있었지만, Eclat는 지지도 하나뿐이다.\n",
    "\n",
    "## Eclat - Algorithm\n",
    "\n",
    "1. 최소 지지도를 설정한다.\n",
    "\n",
    "2. 최소 지지도보다 높은 거래내역 부분집합을 가져간다.\n",
    "\n",
    "3. 지지도 기준 내림차순으로 부분집합을 정렬한다."
   ]
  },
  {
   "cell_type": "code",
   "execution_count": null,
   "id": "85ee41a4-9f64-42d5-8bfd-d0ca85944027",
   "metadata": {},
   "outputs": [],
   "source": []
  }
 ],
 "metadata": {
  "kernelspec": {
   "display_name": "Python 3 (ipykernel)",
   "language": "python",
   "name": "python3"
  },
  "language_info": {
   "codemirror_mode": {
    "name": "ipython",
    "version": 3
   },
   "file_extension": ".py",
   "mimetype": "text/x-python",
   "name": "python",
   "nbconvert_exporter": "python",
   "pygments_lexer": "ipython3",
   "version": "3.13.5"
  }
 },
 "nbformat": 4,
 "nbformat_minor": 5
}
