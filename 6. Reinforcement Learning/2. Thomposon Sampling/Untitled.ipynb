{
 "cells": [
  {
   "cell_type": "markdown",
   "id": "280cb7d9-fd58-4ebc-a6a3-46876f6f5bee",
   "metadata": {},
   "source": [
    "# Thompson Sampling Intuition\n",
    "\n",
    "Multi-Armed Bandit 문제가 똑같이 적용된다.\n",
    "\n",
    "## Multi-Aromed Bandit Problem\n",
    "\n",
    "- 웹 페이지에 게시되는 광고 $d$개를 $d$ arms라고 표현하자.\n",
    "\n",
    "- 웹 페이지에 방문하는 사용자는 round를 만든다.\n",
    "\n",
    "- 각 round $n$마다 우리는 사용자에게 오직 하나의 광고를 보여주어야 한다.\n",
    "\n",
    "- 각 round $n$마다 광고 $i$는 0 또는 1을 보상으로 준다.\n",
    "\n",
    "- 각 라운드마다 총 보상을 maximize 하는 것이 목표다.\n",
    "\n",
    "\n",
    "## Thompson Sampling Algorithm\n",
    "\n",
    "- 각 라운드 $n$마다, 우리는 각 광고 $i$를 고려해야 한다.\n",
    "\n",
    "- $N^1_i(n)$ -\n",
    "\n",
    "\n",
    "- $N^0_i(n)$ - the number of ti"
   ]
  }
 ],
 "metadata": {
  "kernelspec": {
   "display_name": "Python 3 (ipykernel)",
   "language": "python",
   "name": "python3"
  },
  "language_info": {
   "codemirror_mode": {
    "name": "ipython",
    "version": 3
   },
   "file_extension": ".py",
   "mimetype": "text/x-python",
   "name": "python",
   "nbconvert_exporter": "python",
   "pygments_lexer": "ipython3",
   "version": "3.13.5"
  }
 },
 "nbformat": 4,
 "nbformat_minor": 5
}
