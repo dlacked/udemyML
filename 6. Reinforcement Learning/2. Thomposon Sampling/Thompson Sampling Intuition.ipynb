{
 "cells": [
  {
   "cell_type": "markdown",
   "id": "280cb7d9-fd58-4ebc-a6a3-46876f6f5bee",
   "metadata": {},
   "source": [
    "# Thompson Sampling Intuition\n",
    "\n",
    "Multi-Armed Bandit 문제가 똑같이 적용된다.\n",
    "\n",
    "## Multi-Aromed Bandit Problem\n",
    "\n",
    "- 웹 페이지에 게시되는 광고 $d$개를 $d$ arms라고 표현하자.\n",
    "\n",
    "- 웹 페이지에 방문하는 사용자는 round를 만든다.\n",
    "\n",
    "- 각 round $n$마다 우리는 사용자에게 오직 하나의 광고를 보여주어야 한다.\n",
    "\n",
    "- 각 round $n$마다 광고 $i$는 0 또는 1을 보상으로 준다.\n",
    "\n",
    "- 각 라운드마다 총 보상을 maximize 하는 것이 목표다.\n",
    "\n",
    "\n",
    "## Thompson Sampling Algorithm\n",
    "\n",
    "1. 각 라운드 $n$마다, 우리는 각 광고 $i$를 고려해야 한다.\n",
    "\n",
    "- $N^1_i(n)$: round $n$에서 광고 $i$가 보상(1)을 얻은 횟수\n",
    "\n",
    "- $N^0_i(n)$ - round $n$에서 광고 $i$가 보상을 받지 않은(0) 횟수\n",
    "\n",
    "2. 각각의 광고 $i$마다 다음 수식을 계산해야 한다.\n",
    "\n",
    "$$\\theta_i(n) = \\beta(N^1_i(n) + 1, N^0_i(n) + 1)$$\n",
    "\n",
    "3. 가장 높은 $\\theta_i(n)$ 값을 가지는 광고를 선택한다.\n",
    "\n",
    "## Thompson Sampling Intuition \n",
    "\n",
    "광고 3개 중 어떤 광고가 가장 세타 리턴 값이 높은지 판단해야 한다.\n",
    "\n",
    "UCB 알고리즘과 마찬가지로 어떤 광고의 Return 값이 제일 높은지 알 수 있는 방법이 없다.\n",
    "\n",
    "각 광고에 약간의 시험 라운드를 진행하며 분포를 생성한다(네 번이라고 하자).\n",
    "\n",
    "해당 분포가 의미하는 바는 실제 예상 값이 어디에 있을지 추측해야 한다.\n",
    "\n",
    "처음 분포에서 가장 높은 지점($\\mu^*$)이 실제 예상 값이 있을 가능성이 높다.\n",
    "\n",
    "가능성이 높은 거라 당연히 분포 내 가장 높은 지점이 아닌 곳에 있을 가능성도 있다.\n",
    "\n",
    "다음 라운드에서 값이 하나씩 들어왔다고 하자.\n",
    "\n",
    "광고가 3개이므로 그 세 개중 최상의 Bandit을 골라야 한다.\n",
    "\n",
    "그 후 최상의 Bandit을 가진 분포는 해당 지점에 따라 분포는 축소되고 높이가 상승한다.\n",
    "\n",
    "## UCB vs Thompson Sampling\n",
    "\n",
    "1. UCB는 모든 단계가 결정론적인 알고리즘, 무작위성이란 존재하지 않는다.\n",
    "   Thompson Sampling은 확률적 알고리즘, 같은 라운드를 재실행하면 결과값이 모두 달라진다.\n",
    "   \n",
    "2. UCB는 매번 round마다 업데이트를 필요로 하나, Thompson Sampling은 모든 round를 돌려야 결과를 알 수 있다.\n",
    "\n",
    "3. Thompson Sampling은 UCB보다 더 나은 경험적 증거를 가지고 있다.\n"
   ]
  },
  {
   "cell_type": "code",
   "execution_count": null,
   "id": "9810040f-98b8-49ea-8dd2-238c219e539d",
   "metadata": {},
   "outputs": [],
   "source": []
  }
 ],
 "metadata": {
  "kernelspec": {
   "display_name": "Python 3 (ipykernel)",
   "language": "python",
   "name": "python3"
  },
  "language_info": {
   "codemirror_mode": {
    "name": "ipython",
    "version": 3
   },
   "file_extension": ".py",
   "mimetype": "text/x-python",
   "name": "python",
   "nbconvert_exporter": "python",
   "pygments_lexer": "ipython3",
   "version": "3.13.5"
  }
 },
 "nbformat": 4,
 "nbformat_minor": 5
}
