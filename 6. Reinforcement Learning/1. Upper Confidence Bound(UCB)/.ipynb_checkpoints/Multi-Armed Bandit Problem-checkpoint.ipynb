{
 "cells": [
  {
   "cell_type": "markdown",
   "id": "edddfcb6-79f8-4ede-9383-aa6274d80980",
   "metadata": {},
   "source": [
    "# The Multi-Armed Bandit Problem"
   ]
  },
  {
   "cell_type": "markdown",
   "id": "cd1fd0cc-2a43-43ff-858b-36b11e64b86f",
   "metadata": {},
   "source": [
    "One-Armed Bandit은 옛날 레버를 당겨야 하는 슬롯머신에서 비롯되었다.\n",
    "\n",
    "하지만 Bandit이라고 불리는 이유는 돈을 잃는 가장 빠른 방법이 슬롯머신이기 때문이다.\n",
    "\n",
    "Multi-Armed Bandit 문제는 이 머신들이 여러 개가 있을 때 마주하는 과제다.\n",
    "\n",
    "하나가 아닌 다섯 개의 슬롯머신이 있다고 할 때, 돈을 최대로 돌려받으려고 한다면 어떻게 게임을 할 것인가?\n",
    "\n",
    "수천번을 통해 보상을 최대화하려면 어떤 머신으로 게임을 해야 하는지 어떻게 알아낼 것인가?\n",
    "\n",
    "트리거를 당기면 각각의 머신의 분포에 기반해 사용자의 승패를 결정한다.\n",
    "\n",
    "문제는 분포를 알 수 없다는 점이다.\n",
    "\n",
    "우리의 목표는 각자 분포가 다른 슬롯머신 중 우리에게 가장 좋은 분포 방식을 가진 것을 찾아내는 것이다.\n",
    "\n",
    "꼬리가 가장 왼쪽에 길게 있는 분포를 가진 슬롯머신을 사용하는 것이 좋다.\n",
    "\n",
    "이렇게 분포를 알고 있다면 정말 좋은데, 미리 알 수 있는 방법이 없다.\n",
    "\n",
    "비용을 들여 explore 할 수 밖에 없는데, 탐험에 충분한 시간을 쏟지 않으면\n",
    "\n",
    "더 좋은 분포가 있는데도 불구하고 차선의 분포를 선택하게 될 수도 있다.\n",
    "\n",
    "그래서 목표는 최상을 찾아서 개발하는 것이다.\n",
    "\n",
    "## Summary\n",
    "\n",
    "사용자가 웹페이지에 접속할 때마다 보여주는 arms인 광고 $d$ arms가 있다.\n",
    "\n",
    "사용자가 접속할 때마다 광고가 표시되는데 각 라운드마다 어떤 광고를 표시할지 선택하는 것이다.\n",
    "\n",
    "딱 하나의 arm만 잡아당길 수 있다.\n",
    "\n",
    "그리고 각 라운드에서 광고 $i$가 보상으로 0이나 1을 반환한다.\n",
    "\n",
    "광고를 클릭하면 1이 되고, 클릭하지 않으면 0이 된다.\n",
    "\n",
    "우리의 목표는 미디어에서 얻는 총 보상을 최대화하는 것이다.\n",
    "\n"
   ]
  }
 ],
 "metadata": {
  "kernelspec": {
   "display_name": "Python 3 (ipykernel)",
   "language": "python",
   "name": "python3"
  },
  "language_info": {
   "codemirror_mode": {
    "name": "ipython",
    "version": 3
   },
   "file_extension": ".py",
   "mimetype": "text/x-python",
   "name": "python",
   "nbconvert_exporter": "python",
   "pygments_lexer": "ipython3",
   "version": "3.13.5"
  }
 },
 "nbformat": 4,
 "nbformat_minor": 5
}
