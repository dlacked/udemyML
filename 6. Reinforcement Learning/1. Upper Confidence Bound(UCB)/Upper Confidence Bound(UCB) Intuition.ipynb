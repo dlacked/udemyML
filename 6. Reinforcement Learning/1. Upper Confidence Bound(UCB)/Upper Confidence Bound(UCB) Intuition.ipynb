{
 "cells": [
  {
   "cell_type": "markdown",
   "id": "9281d781-11ab-4903-ab71-cd624a6fb95c",
   "metadata": {},
   "source": [
    "# Upper Confidence Bound Intuition\n",
    "## Upper Confidence Boumd Algorithm\n",
    "\n",
    "1. 사용자 수(round)와 광고 수를 담는 변수 필요.\n",
    "\n",
    "또한, 각 광고마다 클릭된 총 횟수를 담는 변수와 보상 횟수를 담는 변수 필요.\n",
    "\n",
    "2. \n",
    "\n"
   ]
  },
  {
   "cell_type": "code",
   "execution_count": null,
   "id": "af615a00-35b7-40ee-a9c0-22ffeea5d69c",
   "metadata": {},
   "outputs": [],
   "source": []
  }
 ],
 "metadata": {
  "kernelspec": {
   "display_name": "Python 3 (ipykernel)",
   "language": "python",
   "name": "python3"
  },
  "language_info": {
   "codemirror_mode": {
    "name": "ipython",
    "version": 3
   },
   "file_extension": ".py",
   "mimetype": "text/x-python",
   "name": "python",
   "nbconvert_exporter": "python",
   "pygments_lexer": "ipython3",
   "version": "3.13.5"
  }
 },
 "nbformat": 4,
 "nbformat_minor": 5
}
