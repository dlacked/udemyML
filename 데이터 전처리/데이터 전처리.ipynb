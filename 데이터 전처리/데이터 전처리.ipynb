{
  "nbformat": 4,
  "nbformat_minor": 0,
  "metadata": {
    "colab": {
      "provenance": []
    },
    "kernelspec": {
      "name": "python3",
      "display_name": "Python 3"
    },
    "language_info": {
      "name": "python"
    }
  },
  "cells": [
    {
      "cell_type": "markdown",
      "source": [
        "# 데이터 불러오기"
      ],
      "metadata": {
        "id": "X_WX3y81cwPo"
      }
    },
    {
      "cell_type": "code",
      "source": [
        "import numpy as np\n",
        "import pandas as pd\n",
        "\n",
        "df = pd.read_csv('Data.csv')\n",
        "\n",
        "X = df.iloc[:, :-1].values\n",
        "y = df.iloc[:, -1].values"
      ],
      "metadata": {
        "id": "5q4d30TacwEH"
      },
      "execution_count": 1,
      "outputs": []
    },
    {
      "cell_type": "markdown",
      "source": [
        "# 결측 데이터 확인\n"
      ],
      "metadata": {
        "id": "WTnXLa9rdEwe"
      }
    },
    {
      "cell_type": "code",
      "source": [
        "print(df.isnull().sum()) #결측값 2개 확인"
      ],
      "metadata": {
        "colab": {
          "base_uri": "https://localhost:8080/"
        },
        "id": "4VwwxIeCdGeG",
        "outputId": "5393fb76-d3aa-4641-defc-c3e25eb2f3b7"
      },
      "execution_count": 4,
      "outputs": [
        {
          "output_type": "stream",
          "name": "stdout",
          "text": [
            "Country      0\n",
            "Age          1\n",
            "Salary       1\n",
            "Purchased    0\n",
            "dtype: int64\n"
          ]
        }
      ]
    },
    {
      "cell_type": "markdown",
      "source": [
        "# 결측 데이터 처리"
      ],
      "metadata": {
        "id": "1tpggpDqdUTH"
      }
    },
    {
      "cell_type": "code",
      "source": [
        "from sklearn.impute import SimpleImputer\n",
        "imputer = SimpleImputer(missing_values=np.nan, strategy='mean') #독립 변수의 평균값으로 처리\n",
        "X[:, 1:3] = imputer.fit_transform(X[:, 1:3])"
      ],
      "metadata": {
        "colab": {
          "base_uri": "https://localhost:8080/"
        },
        "id": "E5Cz3RVIdWcF",
        "outputId": "0293b7ee-74b8-4715-b00d-6bdf084300ae"
      },
      "execution_count": 7,
      "outputs": [
        {
          "output_type": "stream",
          "name": "stdout",
          "text": [
            "[['France' 44.0 72000.0]\n",
            " ['Spain' 27.0 48000.0]\n",
            " ['Germany' 30.0 54000.0]\n",
            " ['Spain' 38.0 61000.0]\n",
            " ['Germany' 40.0 63777.77777777778]\n",
            " ['France' 35.0 58000.0]\n",
            " ['Spain' 38.77777777777778 52000.0]\n",
            " ['France' 48.0 79000.0]\n",
            " ['Germany' 50.0 83000.0]\n",
            " ['France' 37.0 67000.0]]\n"
          ]
        }
      ]
    },
    {
      "cell_type": "markdown",
      "source": [
        "# 범주형 데이터 인코딩"
      ],
      "metadata": {
        "id": "8j57C0GWe4LF"
      }
    },
    {
      "cell_type": "code",
      "source": [
        "#독립 변수 인코딩\n",
        "from sklearn.compose import ColumnTransformer\n",
        "from sklearn.preprocessing import OneHotEncoder\n",
        "\n",
        "ct = ColumnTransformer(transformers=[('encoder', OneHotEncoder(), [0])], remainder='passthrough')\n",
        "X = np.array(ct.fit_transform(X))\n",
        "print(X)"
      ],
      "metadata": {
        "colab": {
          "base_uri": "https://localhost:8080/"
        },
        "id": "d3DbjJG1e_Vx",
        "outputId": "4970f5db-3ee8-4384-8de7-99c0e004c8f6"
      },
      "execution_count": 9,
      "outputs": [
        {
          "output_type": "stream",
          "name": "stdout",
          "text": [
            "[[1.0 0.0 0.0 44.0 72000.0]\n",
            " [0.0 0.0 1.0 27.0 48000.0]\n",
            " [0.0 1.0 0.0 30.0 54000.0]\n",
            " [0.0 0.0 1.0 38.0 61000.0]\n",
            " [0.0 1.0 0.0 40.0 63777.77777777778]\n",
            " [1.0 0.0 0.0 35.0 58000.0]\n",
            " [0.0 0.0 1.0 38.77777777777778 52000.0]\n",
            " [1.0 0.0 0.0 48.0 79000.0]\n",
            " [0.0 1.0 0.0 50.0 83000.0]\n",
            " [1.0 0.0 0.0 37.0 67000.0]]\n"
          ]
        }
      ]
    },
    {
      "cell_type": "code",
      "source": [
        "#종속 변수 인코딩\n",
        "from sklearn.preprocessing import LabelEncoder\n",
        "le = LabelEncoder()\n",
        "y = le.fit_transform(y)"
      ],
      "metadata": {
        "colab": {
          "base_uri": "https://localhost:8080/"
        },
        "id": "l_QyiAo4f0Oc",
        "outputId": "f34a9bc2-c76f-4af4-92b5-dfcb3178fa79"
      },
      "execution_count": 10,
      "outputs": [
        {
          "output_type": "stream",
          "name": "stdout",
          "text": [
            "[0 1 0 0 1 1 0 1 0 1]\n"
          ]
        }
      ]
    },
    {
      "cell_type": "markdown",
      "source": [
        "# train_set, test_set으로 분할하기"
      ],
      "metadata": {
        "id": "rgn4yM_QgPBk"
      }
    },
    {
      "cell_type": "code",
      "source": [
        "from sklearn.model_selection import train_test_split\n",
        "\n",
        "X_train, X_test, y_train, y_test = train_test_split(X, y, test_size=0.2, random_state=1)"
      ],
      "metadata": {
        "id": "9JYODf-YgSRG"
      },
      "execution_count": 12,
      "outputs": []
    },
    {
      "cell_type": "markdown",
      "source": [
        "# 특성 스케일링"
      ],
      "metadata": {
        "id": "KPAglpUkghsF"
      }
    },
    {
      "cell_type": "code",
      "source": [
        "from sklearn.preprocessing import StandardScaler\n",
        "\n",
        "sc = StandardScaler()\n",
        "X_train[:, 3:] = sc.fit_transform(X_train[:, 3:])\n",
        "X_test[:, 3:] = sc.transform(X_test[:, 3:])"
      ],
      "metadata": {
        "colab": {
          "base_uri": "https://localhost:8080/"
        },
        "id": "ceg-taDugp-P",
        "outputId": "670ca0bf-195f-45a5-f915-7055157fc822"
      },
      "execution_count": 14,
      "outputs": [
        {
          "output_type": "stream",
          "name": "stdout",
          "text": [
            "[[0.0 0.0 1.0 1.178841189320736 0.9287434145875759]\n",
            " [0.0 1.0 0.0 1.2403337943356885 1.3121778914961761]\n",
            " [1.0 0.0 0.0 1.4415823198391693 1.57985856405501]\n",
            " [-0.816496580927726 -0.5 1.224744871391589 -0.7816226350136118\n",
            "  -0.7641678152036875]\n",
            " [-0.816496580927726 -0.5 1.224744871391589 -0.8467369584257524\n",
            "  -0.7641998850551783]\n",
            " [1.224744871391589 -0.5 -0.816496580927726 -0.7224277955480295\n",
            "  -0.7641234107939308]\n",
            " [-0.816496580927726 2.0 -0.816496580927726 -0.710588827654913\n",
            "  -0.7641135431473183]\n",
            " [1.224744871391589 -0.5 -0.816496580927726 -0.7993810868532866\n",
            "  -0.7641752159386469]] [[0.0 1.0 0.0 0.7372124805769867 0.9938549295343193]\n",
            " [1.0 0.0 0.0 1.089397400208078 1.4170797766881515]]\n"
          ]
        }
      ]
    }
  ]
}