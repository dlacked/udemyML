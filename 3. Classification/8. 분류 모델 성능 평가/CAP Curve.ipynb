{
 "cells": [
  {
   "cell_type": "markdown",
   "id": "be51c446-cc9b-456f-9133-b8eff7f87fda",
   "metadata": {},
   "source": [
    "# False Positives & Negatives\n",
    "\n",
    "실제 값은 False지만, True로 예측한 오류를 False Positives, 제 1종 오류에 해당한다.\n",
    "\n",
    "실제 값은 True지만, False로 예측한 오류를 False Negatives, 제 2종 오류에 해당한다.\n",
    "\n",
    "이 두 개 사이를 구분하는 것이 중요하며, 제 2종 오류가 제 1종 오류보다 더 심각한 문제다.\n",
    "\n",
    "\n",
    "\n",
    "예를 들자면, 지진이 발생할 것이라고 예측하였지만 지진이 발생하지 않은 경우는 대비해서 나쁠 것이 없으므로 일종의 경고라고 생각할 수 있다.\n",
    "\n",
    "하지만, 지진이 발생하지 않을 것이라고 예측하였지만 지진이 발생한 경우는 큰 피해를 볼 수 있을지도 모른다.\n",
    "\n",
    "의료적 결론을 내리는 경우 제 1종/ 제 2종과 관계없이 모두 심각한 문제에 해당할 수 있다."
   ]
  },
  {
   "cell_type": "markdown",
   "id": "671ca930-d271-41a7-af41-203ad8600106",
   "metadata": {},
   "source": [
    "# CAP Curve\n",
    "\n",
    "모형이 좋을수록 슬라이드 아래의 넓이는 더 크다.\n",
    "\n",
    "CAP과 ROC는 서로 다르다.\n",
    "\n",
    "정확도 비율을 계산하는 데에 있어서 정석적인 접근법이 있는데\n",
    "\n",
    "정확도를 계산하기 위해서는 완벽한 선 아래의 모형 영역을 가져야 한다.\n",
    "\n",
    "$$AR = \\frac{a_R}{a_P}$$\n",
    "\n",
    "최대치의 CAP Curve의 영역에서 현재 구한 CAP Curve의 영역을 나눈 것이다.\n",
    "\n",
    "그냥 그래프를 확인하는 방법으로 CAP Curve를 분석할 수 있지만, 실질적인 어려움이 따른다.\n",
    "\n",
    "두 번째로 나온 대안이 50% 선이 가로축의 어디에 해당하는지 확인하는 것이다.\n",
    "\n",
    "즉, 가로선과 세로선이 교차하는 곳을 확인하는 것이다.\n",
    "\n",
    "~ 60%: Rubbish\n",
    "\n",
    "60% ~ 70%: Poor\n",
    "\n",
    "70% ~ 80%: Good\n",
    "\n",
    "80% ~ 90%: Very good\n",
    "\n",
    "90% ~: 과적합의 경우를 확인해야 한다.\n",
    "\n",
    "90% 넘는데 과적합이 없으면 ㄹㅇ 천재 데이터 사이언티스트"
   ]
  }
 ],
 "metadata": {
  "kernelspec": {
   "display_name": "Python 3 (ipykernel)",
   "language": "python",
   "name": "python3"
  },
  "language_info": {
   "codemirror_mode": {
    "name": "ipython",
    "version": 3
   },
   "file_extension": ".py",
   "mimetype": "text/x-python",
   "name": "python",
   "nbconvert_exporter": "python",
   "pygments_lexer": "ipython3",
   "version": "3.13.5"
  }
 },
 "nbformat": 4,
 "nbformat_minor": 5
}
